{
 "cells": [
  {
   "cell_type": "code",
   "execution_count": 2,
   "metadata": {},
   "outputs": [],
   "source": [
    "import pandas as pd\n",
    "import seaborn as sns\n",
    "from nlpaug.augmenter.word import ContextualWordEmbsAug\n",
    "from sklearn.utils import shuffle\n",
    "from tqdm import tqdm\n",
    "import numpy as np"
   ]
  },
  {
   "cell_type": "code",
   "execution_count": 3,
   "metadata": {},
   "outputs": [
    {
     "name": "stdout",
     "output_type": "stream",
     "text": [
      "                      tweet off_label hs_label\n",
      "count                  8887      8887     8887\n",
      "unique                 8887         2        6\n",
      "top      ردينا ع التطنز 😏👊🏻   NOT_OFF   NOT_HS\n",
      "freq                      1      5715     7928\n"
     ]
    },
    {
     "data": {
      "text/html": [
       "<div>\n",
       "<style scoped>\n",
       "    .dataframe tbody tr th:only-of-type {\n",
       "        vertical-align: middle;\n",
       "    }\n",
       "\n",
       "    .dataframe tbody tr th {\n",
       "        vertical-align: top;\n",
       "    }\n",
       "\n",
       "    .dataframe thead th {\n",
       "        text-align: right;\n",
       "    }\n",
       "</style>\n",
       "<table border=\"1\" class=\"dataframe\">\n",
       "  <thead>\n",
       "    <tr style=\"text-align: right;\">\n",
       "      <th></th>\n",
       "      <th>tweet</th>\n",
       "      <th>off_label</th>\n",
       "      <th>hs_label</th>\n",
       "    </tr>\n",
       "  </thead>\n",
       "  <tbody>\n",
       "    <tr>\n",
       "      <th>0</th>\n",
       "      <td>ردينا ع التطنز 😏👊🏻</td>\n",
       "      <td>OFF</td>\n",
       "      <td>NOT_HS</td>\n",
       "    </tr>\n",
       "    <tr>\n",
       "      <th>1</th>\n",
       "      <td>وصارت فطاير البقالات غذاء صحي 👎🏻</td>\n",
       "      <td>NOT_OFF</td>\n",
       "      <td>NOT_HS</td>\n",
       "    </tr>\n",
       "    <tr>\n",
       "      <th>2</th>\n",
       "      <td>روحي لبريده تلقين اشباه كثير بس ماحد زيكم مشف...</td>\n",
       "      <td>OFF</td>\n",
       "      <td>NOT_HS</td>\n",
       "    </tr>\n",
       "    <tr>\n",
       "      <th>3</th>\n",
       "      <td>مش باين حاجه خالص 😣مش عارف بقى 😔</td>\n",
       "      <td>NOT_OFF</td>\n",
       "      <td>NOT_HS</td>\n",
       "    </tr>\n",
       "    <tr>\n",
       "      <th>4</th>\n",
       "      <td>#اليوم_الاثنين👏 يقولك :%90  من المسلمين عندهم ...</td>\n",
       "      <td>NOT_OFF</td>\n",
       "      <td>NOT_HS</td>\n",
       "    </tr>\n",
       "  </tbody>\n",
       "</table>\n",
       "</div>"
      ],
      "text/plain": [
       "                                               tweet off_label hs_label\n",
       "0                                 ردينا ع التطنز 😏👊🏻       OFF   NOT_HS\n",
       "1                  وصارت فطاير البقالات غذاء صحي 👎🏻    NOT_OFF   NOT_HS\n",
       "2   روحي لبريده تلقين اشباه كثير بس ماحد زيكم مشف...       OFF   NOT_HS\n",
       "3                   مش باين حاجه خالص 😣مش عارف بقى 😔   NOT_OFF   NOT_HS\n",
       "4  #اليوم_الاثنين👏 يقولك :%90  من المسلمين عندهم ...   NOT_OFF   NOT_HS"
      ]
     },
     "execution_count": 3,
     "metadata": {},
     "output_type": "execute_result"
    }
   ],
   "source": [
    "train_dataset_df = pd.read_csv('./dataset/OSACT2022-sharedTask-train.csv', usecols=['tweet', 'off_label', 'hs_label'])\n",
    "print(train_dataset_df.describe())\n",
    "train_dataset_df.head()"
   ]
  },
  {
   "cell_type": "code",
   "execution_count": 24,
   "metadata": {},
   "outputs": [
    {
     "name": "stdout",
     "output_type": "stream",
     "text": [
      "NOT_OFF    5715\n",
      "OFF        3172\n",
      "Name: off_label, dtype: int64\n"
     ]
    },
    {
     "data": {
      "text/plain": [
       "<AxesSubplot:xlabel='off_label', ylabel='count'>"
      ]
     },
     "execution_count": 24,
     "metadata": {},
     "output_type": "execute_result"
    },
    {
     "data": {
      "image/png": "[encoded data removed]",
      "text/plain": [
       "<Figure size 432x288 with 1 Axes>"
      ]
     },
     "metadata": {
      "needs_background": "light"
     },
     "output_type": "display_data"
    }
   ],
   "source": [
    "print(train_dataset_df['off_label'].value_counts())\n",
    "sns.countplot(data = train_dataset_df , x='off_label')"
   ]
  },
  {
   "cell_type": "code",
   "execution_count": 4,
   "metadata": {},
   "outputs": [
    {
     "name": "stdout",
     "output_type": "stream",
     "text": [
      "NOT_HS    7928\n",
      "HS         959\n",
      "Name: hs_label, dtype: int64\n"
     ]
    },
    {
     "data": {
      "text/plain": [
       "<AxesSubplot:xlabel='hs_label', ylabel='count'>"
      ]
     },
     "execution_count": 4,
     "metadata": {},
     "output_type": "execute_result"
    },
    {
     "data": {
      "image/png": "[encoded data removed]",
      "text/plain": [
       "<Figure size 432x288 with 1 Axes>"
      ]
     },
     "metadata": {
      "needs_background": "light"
     },
     "output_type": "display_data"
    }
   ],
   "source": [
    "\n",
    "train_dataset_df.loc[train_dataset_df['hs_label'] == 'HS1', 'hs_label'] = 'HS'\n",
    "train_dataset_df.loc[train_dataset_df['hs_label'] == 'HS2', 'hs_label'] = 'HS'\n",
    "train_dataset_df.loc[train_dataset_df['hs_label'] == 'HS3', 'hs_label'] = 'HS'\n",
    "train_dataset_df.loc[train_dataset_df['hs_label'] == 'HS4', 'hs_label'] = 'HS'\n",
    "train_dataset_df.loc[train_dataset_df['hs_label'] == 'HS5', 'hs_label'] = 'HS'\n",
    "train_dataset_df.loc[train_dataset_df['hs_label'] == 'HS6', 'hs_label'] = 'HS'\n",
    "train_dataset_df.loc[(train_dataset_df['hs_label'] == 'NOT_HS'), 'hs_label'] = 'NOT_HS'\n",
    "print(train_dataset_df['hs_label'].value_counts())\n",
    "sns.countplot(data = train_dataset_df , x='hs_label')"
   ]
  },
  {
   "cell_type": "code",
   "execution_count": 5,
   "metadata": {},
   "outputs": [],
   "source": [
    "# BERT Augmentator\n",
    "TOPK=20 #default=100\n",
    "ACT = 'insert' #\"substitute\"\n",
    "\n",
    "aug_bert = ContextualWordEmbsAug(\n",
    "    model_path= 'UBC-NLP/MARBERT',\n",
    "#     model_path='distilbert-base-uncased', \n",
    "    # device='cuda',\n",
    "    action=ACT, top_k=TOPK)\n",
    "\n",
    "def augment_text(df, augmenter, label_name, label_val, samples=100, pr=0.2, show = 0):\n",
    "    augmenter.aug_p = pr\n",
    "    new_text=[]\n",
    "    \n",
    "    # selecting the minority class samples\n",
    "    df_n = df[df[label_name]==label_val].reset_index(drop=True)\n",
    "\n",
    "    # data augmentation loop\n",
    "    for i in tqdm(np.random.randint(0, len(df_n), samples)):\n",
    "            text = df_n.iloc[i]['tweet']\n",
    "            augmented_text = augmenter.augment(text)\n",
    "            if show:\n",
    "                print(f\"The original text: {text}\")\n",
    "                print(f\"The augmented text: {augmented_text}\")\n",
    "                print('-'*100)\n",
    "            new_text.append(augmented_text)\n",
    "    \n",
    "    # dataframe\n",
    "    new = pd.DataFrame({'tweet':new_text,label_name:label_val})\n",
    "    df = shuffle(pd.concat([df,new]).reset_index(drop=True))\n",
    "    return df"
   ]
  },
  {
   "cell_type": "code",
   "execution_count": 27,
   "metadata": {},
   "outputs": [
    {
     "name": "stderr",
     "output_type": "stream",
     "text": [
      " 20%|██        | 1/5 [00:00<00:00,  7.86it/s]"
     ]
    },
    {
     "name": "stdout",
     "output_type": "stream",
     "text": [
      "The original text: الريس يخصص ٢٧٥ مليار جنيه ل تنميه شامله ل سيناء ....علشان اسرائيل تأخذ سيناء سوبر لوكس علي مفتاااح 🐑🐏\n",
      "The augmented text: يعني الريس لازم يخصص ٢٧٥ مليار جنيه ل مشروع تنميه شامله شامله ل شبه سيناء.... علشان اسراييل تاخذ مشروع سيناء سوبر لوكس علي مفتاااح [UNK]\n",
      "----------------------------------------------------------------------------------------------------\n",
      "The original text: بنات الشعبه عندهم وسواس قهري في المواد يسألون عن تفاصيل التفاصيل 😷😷😷خصوصا وحده تحب توسوس نفسي اصفقها\n",
      "The augmented text: بنات الشعبه عندهم وسواس و قهري في المواد ولازم يسالون عن تفاصيل التفاصيل 😷😷😷خصوصا مع وحده تحب ولا توسوس 😂😂 نفسي اصفقها\n",
      "----------------------------------------------------------------------------------------------------\n"
     ]
    },
    {
     "name": "stderr",
     "output_type": "stream",
     "text": [
      "100%|██████████| 5/5 [00:00<00:00,  9.95it/s]"
     ]
    },
    {
     "name": "stdout",
     "output_type": "stream",
     "text": [
      "The original text:  نعم فعلاً اقولها من تجربة ومن خلال رؤيتي بأن المعلمين بحاجة مستمرة لدورات تثقيفية يعني مو معقولة كل المعلمات اللي بالمدرسة تحسهم مش متعلمات من طريقة كلامهم وتعاملهم مع الطالبات شيء فظيع والله😣\n",
      "The augmented text: اي نعم فعلا اقولها من تجربة ومن خلال رويتي بان المعلمين بحاجة وبشكل مستمرة لدورات تثقيفية يعني مو معقولة لو كل المعلمات زي اللي عندنا بالمدرسة تحسهم حتى مش متعلمات من طريقة كلامهم وتعاملهم السلبي مع الطالبات شيء جد فظيع والله😣\n",
      "----------------------------------------------------------------------------------------------------\n",
      "The original text: ابغى الي قصة شعره وسوت فيه كذا وينها الكلبه وينها حسبي عليك مع هالصباح😣💔 \n",
      "The augmented text: بموت ابغى الي عجبه قصة شعره وسوت تسوي فيه كذا وينها الكلبه وينها الكلبه حسبي عليك مع هالصباح😣💔\n",
      "----------------------------------------------------------------------------------------------------\n",
      "The original text: اما بشوف واحده مطلعه شعرايه واحده بره الطرحه ببقه عايز اتف في وشها😡😡لاما تبقي قده لاما تقلعيه خالص😡😡\n",
      "The augmented text: اما بشوف صور واحده بشوفها مطلعه شعرايه واحده بره بتاعت الطرحه انا ببقه عايز اتف وشه في وشها😡😡لاما تبقي قده لاما تقلعيه خالص😡😡\n",
      "----------------------------------------------------------------------------------------------------\n"
     ]
    },
    {
     "name": "stderr",
     "output_type": "stream",
     "text": [
      "\n"
     ]
    }
   ],
   "source": [
    "#show sample of augmented offensive tweets\n",
    "aug_df = augment_text(train_dataset_df, aug_bert, 'off_label', label_val ='OFF', samples=5, show=True)"
   ]
  },
  {
   "cell_type": "code",
   "execution_count": 28,
   "metadata": {},
   "outputs": [
    {
     "name": "stderr",
     "output_type": "stream",
     "text": [
      " 60%|██████    | 3/5 [00:00<00:00, 11.97it/s]"
     ]
    },
    {
     "name": "stdout",
     "output_type": "stream",
     "text": [
      "The original text:  ودي يمسكونك انت وامثاله ويخلونككم عبره لكل معتبر فاقد للرجوله 😎ماتقوم رجولتكم الا ع انثى بس 👎🏻\n",
      "The augmented text: ودي بعد يمسكونك انت وامثاله ويخلونككم عبره لكل شخص معتبر ، فاقد الضمير للرجوله 😎ماتقوم رجولتكم الا بالضرب ع انثى بس 👎🏻\n",
      "----------------------------------------------------------------------------------------------------\n",
      "The original text:   في أوروبا تمر عليك البنت مع قليل من المكياج. أما عندنا يمر عليك المكياج مع قليل من البنت 🌚🔪😂😂\n",
      "The augmented text: في اوروبا تمر عليك مكياج البنت مع قليل من المكياج. اما حنا عندنا عادي يمر عليك المكياج كامل مع شوية قليل من البنت 🌚🔪😂😂\n",
      "----------------------------------------------------------------------------------------------------\n",
      "The original text:  بتعملوا ف ديك أبونا كده ليه هو إحنا كفرة ولايهود... وربنا إحنا ماشيين بالعلاج 😡😡😡😡\n",
      "The augmented text: بتعملوا ايه ف ابن ديك ابونا ياجماعة كده ليه هو احنا كفرة ولايهود... وربنا احنا ماشيين بالعلاج اهو 😡😡😡😡\n",
      "----------------------------------------------------------------------------------------------------\n"
     ]
    },
    {
     "name": "stderr",
     "output_type": "stream",
     "text": [
      "100%|██████████| 5/5 [00:00<00:00,  9.46it/s]"
     ]
    },
    {
     "name": "stdout",
     "output_type": "stream",
     "text": [
      "The original text:  حلوووب جدا جدا جدا لعيون ايفاانكا ٤٨٠ مليار دولار عقبها خلوووك تدفع ضرائب ياا 🐑🐑\n",
      "The augmented text: قوول حلوووب جدا جدا جدا لعيون ايفاانكا ٤٨٠ مليار دولار عقبها قولوا خلوووك تدفع اول ضرايب علينا ياا حمار 🐑🐑\n",
      "----------------------------------------------------------------------------------------------------\n",
      "The original text: اقسم ب الله ناس أصبحت مقرفة برمي الأسامي و التهم ع كل من كان له فكر حر .. يشتو مطبلين و قطيع .. انقلعو الله يقرفكم فاض الكيل بنا منكم !!! 😠😷\n",
      "The augmented text: اقسم ب غضب الله ناس اصبحت مقرفة حتى برمي الاسامي و التهم ع كل من هو كان له فكر او حر.. يشتو مطبلين حمير و قطيع.. انقلعو الله لا يقرفكم فاض الكيل بنا الكيل منكم!!! 😒 😠😷\n",
      "----------------------------------------------------------------------------------------------------\n"
     ]
    },
    {
     "name": "stderr",
     "output_type": "stream",
     "text": [
      "\n"
     ]
    }
   ],
   "source": [
    "#show sample of augmented hate speech tweets\n",
    "aug_df = augment_text(train_dataset_df, aug_bert, 'hs_label', label_val ='HS', samples=5, show=True)"
   ]
  },
  {
   "cell_type": "code",
   "execution_count": 6,
   "metadata": {},
   "outputs": [
    {
     "name": "stderr",
     "output_type": "stream",
     "text": [
      "100%|██████████| 2543/2543 [17:44<00:00,  2.39it/s]\n"
     ]
    }
   ],
   "source": [
    "#augment offensive tweets\n",
    "off_count = train_dataset_df.loc[train_dataset_df['off_label'] == 'OFF'].shape[0]\n",
    "not_off_count = train_dataset_df.loc[train_dataset_df['off_label'] == 'NOT_OFF'].shape[0]\n",
    "num_samples = not_off_count - off_count\n",
    "off_aug_df = augment_text(train_dataset_df, aug_bert,label_name='off_label', label_val ='OFF', samples=num_samples, show=False)\n",
    "off_aug_df[\"tweet\"] = [string.replace(\"[UNK]\", \"\")  for string in off_aug_df['tweet']]\n",
    "off_aug_df['tweet'] = off_aug_df['tweet'].astype(str)"
   ]
  },
  {
   "cell_type": "code",
   "execution_count": 94,
   "metadata": {},
   "outputs": [
    {
     "name": "stderr",
     "output_type": "stream",
     "text": [
      "100%|██████████| 6969/6969 [1:07:21<00:00,  1.72it/s]\n"
     ]
    }
   ],
   "source": [
    "#augment hate speech tweets\n",
    "hs_count = train_dataset_df.loc[train_dataset_df['hs_label'] == 'HS'].shape[0]\n",
    "not_hs_count = train_dataset_df.loc[train_dataset_df['hs_label'] == 'NOT_HS'].shape[0]\n",
    "num_samples = not_hs_count - hs_count\n",
    "hs_aug_df = augment_text(train_dataset_df, aug_bert, label_name='hs_label', label_val='HS', samples=num_samples, show=False)\n",
    "hs_aug_df['tweet'] = [string.replace(\"[UNK]\", \"\") for string in hs_aug_df['tweet']]\n",
    "hs_aug_df['tweet'] = hs_aug_df['tweet'].astype(str)"
   ]
  },
  {
   "cell_type": "code",
   "execution_count": 7,
   "metadata": {},
   "outputs": [
    {
     "name": "stderr",
     "output_type": "stream",
     "text": [
      "2022-04-13 15:01:54.391504: E tensorflow/stream_executor/cuda/cuda_driver.cc:271] failed call to cuInit: CUDA_ERROR_NO_DEVICE: no CUDA-capable device is detected\n",
      "2022-04-13 15:01:54.391631: I tensorflow/stream_executor/cuda/cuda_diagnostics.cc:169] retrieving CUDA diagnostic information for host: kirollos-G3-3500\n",
      "2022-04-13 15:01:54.391666: I tensorflow/stream_executor/cuda/cuda_diagnostics.cc:176] hostname: kirollos-G3-3500\n",
      "2022-04-13 15:01:54.404566: I tensorflow/stream_executor/cuda/cuda_diagnostics.cc:200] libcuda reported version is: 510.47.3\n",
      "2022-04-13 15:01:54.404710: I tensorflow/stream_executor/cuda/cuda_diagnostics.cc:204] kernel reported version is: 510.47.3\n",
      "2022-04-13 15:01:54.404747: I tensorflow/stream_executor/cuda/cuda_diagnostics.cc:310] kernel version seems to match DSO: 510.47.3\n",
      "2022-04-13 15:01:54.406387: I tensorflow/core/platform/cpu_feature_guard.cc:151] This TensorFlow binary is optimized with oneAPI Deep Neural Network Library (oneDNN) to use the following CPU instructions in performance-critical operations:  AVX2 FMA\n",
      "To enable them in other operations, rebuild TensorFlow with the appropriate compiler flags.\n",
      "2022-04-13 15:01:54.830154: W tensorflow/core/framework/cpu_allocator_impl.cc:82] Allocation of 307200000 exceeds 10% of free system memory.\n",
      "2022-04-13 15:01:55.448030: W tensorflow/core/framework/cpu_allocator_impl.cc:82] Allocation of 307200000 exceeds 10% of free system memory.\n",
      "2022-04-13 15:01:55.663415: W tensorflow/core/framework/cpu_allocator_impl.cc:82] Allocation of 307200000 exceeds 10% of free system memory.\n",
      "2022-04-13 15:02:10.193359: W tensorflow/core/framework/cpu_allocator_impl.cc:82] Allocation of 307200000 exceeds 10% of free system memory.\n",
      "2022-04-13 15:02:10.340514: W tensorflow/core/framework/cpu_allocator_impl.cc:82] Allocation of 307200000 exceeds 10% of free system memory.\n",
      "All model checkpoint layers were used when initializing TFBertModel.\n",
      "\n",
      "All the layers of TFBertModel were initialized from the model checkpoint at UBC-NLP/MARBERT.\n",
      "If your task is similar to the task the model of the checkpoint was trained on, you can already use TFBertModel for predictions without further training.\n"
     ]
    }
   ],
   "source": [
    "from transformers import AutoTokenizer, TFAutoModel\n",
    "import tensorflow as tf\n",
    "marbert_model_path = 'UBC-NLP/MARBERT'\n",
    "tokenizer = AutoTokenizer.from_pretrained(marbert_model_path, from_tf=True)\n",
    "marbert_model = TFAutoModel.from_pretrained(marbert_model_path, output_hidden_states=True)\n",
    "\n",
    "def bert_tokenize(texts: str) -> list:\n",
    "    max_len = 0\n",
    "    for text in texts:\n",
    "        max_len = max(len(tokenizer.tokenize(f'[CLS] {text} [SEP]')), max_len)\n",
    "    tokens = tokenizer(texts, padding='max_length', truncation=True, max_length=max_len)\n",
    "    return (tokens['input_ids'], tokens['attention_mask'], tokens['token_type_ids'])\n",
    "\n",
    "def get_embeddings(tokens):\n",
    "    ids = tf.convert_to_tensor(tokens[0])\n",
    "    mask = tf.convert_to_tensor(tokens[1])\n",
    "    type_ids = tf.convert_to_tensor(tokens[2])\n",
    "    hidden_states = marbert_model(input_ids=ids, attention_mask=mask, token_type_ids=type_ids)[2]\n",
    "    sentence_embd = tf.reduce_mean(tf.reduce_sum(tf.stack(hidden_states[-4:]), axis = 0), axis=1)\n",
    "    return sentence_embd"
   ]
  },
  {
   "cell_type": "code",
   "execution_count": 8,
   "metadata": {},
   "outputs": [
    {
     "name": "stdout",
     "output_type": "stream",
     "text": [
      "(11430,)\n",
      "int32\n"
     ]
    }
   ],
   "source": [
    "#prepare offensive task labels\n",
    "off_aug_df.loc[off_aug_df['off_label'] == 'OFF', 'off_label'] = 1\n",
    "off_aug_df.loc[off_aug_df['off_label'] == 'NOT_OFF', 'off_label'] = 0\n",
    "del off_aug_df['hs_label']\n",
    "off_aug_df['off_label'] = off_aug_df['off_label'].astype(np.int32)\n",
    "y_train_offensive = off_aug_df['off_label'].values\n",
    "print(y_train_offensive.shape)\n",
    "print(y_train_offensive.dtype)"
   ]
  },
  {
   "cell_type": "code",
   "execution_count": null,
   "metadata": {},
   "outputs": [],
   "source": [
    "# extract training features for hate speech task\n",
    "text_offensive = off_aug_df['tweet'].values \n",
    "batch_size = 64\n",
    "train_num_batches = text_offensive.shape[0] // batch_size\n",
    "train_rem = text_offensive.shape[0] % batch_size\n",
    "\n",
    "x_train_offensive = np.empty(shape=(text_offensive.shape[0], 768), dtype=np.float64)\n",
    "for batch_step in tqdm(range(1, train_num_batches), desc='getting training features..'):\n",
    "    i = batch_step - 1\n",
    "    tokens = bert_tokenize(list(text_offensive[i * batch_size: batch_step * batch_size]))\n",
    "    x_train_offensive[i * batch_size : batch_step * batch_size] = get_embeddings(tokens)\n",
    "\n",
    "if train_rem != 0:\n",
    "    tokens = bert_tokenize(list(text_offensive[text_offensive.shape[0] - train_rem: ]))\n",
    "    x_train_offensive[text_offensive.shape[0] - train_rem: ] = get_embeddings(tokens)\n",
    "\n",
    "print(x_train_offensive.shape)"
   ]
  },
  {
   "cell_type": "code",
   "execution_count": 95,
   "metadata": {},
   "outputs": [
    {
     "name": "stdout",
     "output_type": "stream",
     "text": [
      "(15856,)\n",
      "int32\n"
     ]
    }
   ],
   "source": [
    "#prepare hate speech task labels\n",
    "hs_aug_df.loc[hs_aug_df['hs_label'] == 'HS', 'hs_label'] = 1\n",
    "hs_aug_df.loc[hs_aug_df['hs_label'] == 'NOT_HS', 'hs_label'] = 0\n",
    "del hs_aug_df['off_label']\n",
    "hs_aug_df['hs_label'] = hs_aug_df['hs_label'].astype(np.int32)\n",
    "y_train_hs = hs_aug_df['hs_label'].values\n",
    "print(y_train_hs.shape)\n",
    "print(y_train_hs.dtype)"
   ]
  },
  {
   "cell_type": "code",
   "execution_count": 96,
   "metadata": {},
   "outputs": [
    {
     "name": "stderr",
     "output_type": "stream",
     "text": [
      "getting training features..: 100%|██████████| 246/246 [30:39<00:00,  7.48s/it]\n"
     ]
    },
    {
     "name": "stdout",
     "output_type": "stream",
     "text": [
      "(15856, 768)\n"
     ]
    }
   ],
   "source": [
    "# extract training features for hate speech task\n",
    "text_hs = hs_aug_df['tweet'].values \n",
    "batch_size = 64\n",
    "train_num_batches = text_hs.shape[0] // batch_size\n",
    "train_rem = text_hs.shape[0] % batch_size\n",
    "\n",
    "x_train_hs = np.empty(shape=(text_hs.shape[0], 768), dtype=np.float64)\n",
    "for batch_step in tqdm(range(1, train_num_batches), desc='getting training features..'):\n",
    "    i = batch_step - 1\n",
    "    tokens = bert_tokenize(list(text_hs[i * batch_size: batch_step * batch_size]))\n",
    "    x_train_hs[i * batch_size : batch_step * batch_size] = get_embeddings(tokens)\n",
    "\n",
    "if train_rem != 0:\n",
    "    tokens = bert_tokenize(list(text_hs[text_hs.shape[0] - train_rem: ]))\n",
    "    x_train_hs[text_hs.shape[0] - train_rem: ] = get_embeddings(tokens)\n",
    "\n",
    "print(x_train_hs.shape)"
   ]
  },
  {
   "cell_type": "code",
   "execution_count": 97,
   "metadata": {},
   "outputs": [],
   "source": [
    "#read development dataset and prepare offensive and hate speech labels\n",
    "dev_dataset_df = pd.read_csv('./dataset/OSACT2022-sharedTask-dev.csv', usecols=['tweet','off_label', 'hs_label'])\n",
    "dev_dataset_df.loc[dev_dataset_df['off_label'] == 'OFF', 'off_label'] = 1\n",
    "dev_dataset_df.loc[dev_dataset_df['off_label'] == 'NOT_OFF', 'off_label'] = 0\n",
    "dev_dataset_df['off_label'] = dev_dataset_df['off_label'].astype(np.int32)\n",
    "y_dev_offensive = dev_dataset_df['off_label'].values\n",
    "\n",
    "dev_dataset_df.loc[dev_dataset_df['hs_label'] == 'HS1', 'hs_label'] = 1\n",
    "dev_dataset_df.loc[dev_dataset_df['hs_label'] == 'HS2', 'hs_label'] = 1\n",
    "dev_dataset_df.loc[dev_dataset_df['hs_label'] == 'HS3', 'hs_label'] = 1\n",
    "dev_dataset_df.loc[dev_dataset_df['hs_label'] == 'HS4', 'hs_label'] = 1\n",
    "dev_dataset_df.loc[dev_dataset_df['hs_label'] == 'HS5', 'hs_label'] = 1\n",
    "dev_dataset_df.loc[dev_dataset_df['hs_label'] == 'HS6', 'hs_label'] = 1\n",
    "dev_dataset_df.loc[(dev_dataset_df['hs_label'] == 'NOT_HS'), 'hs_label'] = 0\n",
    "dev_dataset_df['hs_label'] = dev_dataset_df['hs_label'].astype(np.int32)\n",
    "y_dev_hs = dev_dataset_df['hs_label'].values"
   ]
  },
  {
   "cell_type": "code",
   "execution_count": 98,
   "metadata": {},
   "outputs": [
    {
     "name": "stderr",
     "output_type": "stream",
     "text": [
      "getting dev features..: 100%|██████████| 18/18 [01:47<00:00,  5.98s/it]\n"
     ]
    },
    {
     "name": "stdout",
     "output_type": "stream",
     "text": [
      "(1270, 768)\n"
     ]
    }
   ],
   "source": [
    "#extract development dataset features\n",
    "text_offensive = dev_dataset_df['tweet'].values \n",
    "batch_size = 64\n",
    "dev_num_batches = text_offensive.shape[0] // batch_size\n",
    "dev_rem = text_offensive.shape[0] % batch_size\n",
    "\n",
    "x_dev = np.empty(shape=(text_offensive.shape[0], 768), dtype=np.float64)\n",
    "for batch_step in tqdm(range(1, dev_num_batches), desc='getting dev features..'):\n",
    "    i = batch_step - 1\n",
    "    tokens = bert_tokenize(list(text_offensive[i * batch_size: batch_step * batch_size]))\n",
    "    x_dev[i * batch_size : batch_step * batch_size] = get_embeddings(tokens)\n",
    "\n",
    "if dev_rem != 0:\n",
    "    tokens = bert_tokenize(list(text_offensive[text_offensive.shape[0] - dev_rem: ]))\n",
    "    x_dev[text_offensive.shape[0] - dev_rem: ] = get_embeddings(tokens)\n",
    "\n",
    "print(x_dev.shape)"
   ]
  },
  {
   "cell_type": "code",
   "execution_count": 67,
   "metadata": {},
   "outputs": [
    {
     "name": "stderr",
     "output_type": "stream",
     "text": [
      "[Parallel(n_jobs=1)]: Using backend SequentialBackend with 1 concurrent workers.\n"
     ]
    },
    {
     "name": "stdout",
     "output_type": "stream",
     "text": [
      "Epoch 1, change: 1.00000000\n",
      "Epoch 2, change: 0.20669558\n",
      "Epoch 3, change: 0.10823747\n",
      "Epoch 4, change: 0.06977143\n",
      "Epoch 5, change: 0.04783693\n",
      "Epoch 6, change: 0.02658286\n",
      "Epoch 7, change: 0.01648776\n",
      "Epoch 8, change: 0.01105328\n",
      "Epoch 9, change: 0.00894443\n",
      "Epoch 10, change: 0.00493904\n",
      "Epoch 11, change: 0.00387966\n",
      "Epoch 12, change: 0.00325783\n",
      "Epoch 13, change: 0.00242496\n",
      "Epoch 14, change: 0.00170599\n",
      "Epoch 15, change: 0.00131166\n",
      "Epoch 16, change: 0.00113192\n",
      "Epoch 17, change: 0.00081929\n",
      "Epoch 18, change: 0.00065565\n",
      "Epoch 19, change: 0.00047070\n",
      "Epoch 20, change: 0.00039170\n",
      "Epoch 21, change: 0.00027360\n",
      "Epoch 22, change: 0.00021646\n",
      "Epoch 23, change: 0.00017753\n",
      "Epoch 24, change: 0.00012184\n",
      "Epoch 25, change: 0.00010307\n",
      "convergence after 26 epochs took 1 seconds\n"
     ]
    },
    {
     "name": "stderr",
     "output_type": "stream",
     "text": [
      "[Parallel(n_jobs=1)]: Done   1 out of   1 | elapsed:    1.5s remaining:    0.0s\n",
      "[Parallel(n_jobs=1)]: Done   1 out of   1 | elapsed:    1.5s finished\n"
     ]
    },
    {
     "data": {
      "text/plain": [
       "LogisticRegression(C=0.001, solver='saga', verbose=2)"
      ]
     },
     "execution_count": 67,
     "metadata": {},
     "output_type": "execute_result"
    }
   ],
   "source": [
    "#logistic regression model for offensive task\n",
    "from sklearn.model_selection import train_test_split\n",
    "from sklearn.preprocessing import StandardScaler\n",
    "from sklearn.linear_model import LogisticRegression\n",
    "from sklearn.metrics import classification_report\n",
    "from sklearn.utils import shuffle\n",
    "\n",
    "scaler = StandardScaler()\n",
    "x_train_offensive = scaler.fit_transform(x_train_offensive, y_train_offensive)\n",
    "\n",
    "x_train, x_test, y_train, y_test = train_test_split(x_train_offensive, y_train_offensive, test_size=0.3)\n",
    "\n",
    "offensive_lr_model = LogisticRegression(verbose=2, solver='saga', C=1e-3)\n",
    "\n",
    "offensive_lr_model.fit(x_train, y_train)"
   ]
  },
  {
   "cell_type": "code",
   "execution_count": null,
   "metadata": {},
   "outputs": [],
   "source": [
    "#evaluate logistic regression on training, test and development datasets for offensive task\n",
    "x_dev_offensive = scaler.fit(x_dev)\n",
    "print('train data confusion matrix:')\n",
    "train_data_conf_matrix = classification_report(y_train, offensive_lr_model.predict(x_train), target_names=['not_off', 'off'])\n",
    "print(train_data_conf_matrix)\n",
    "print('test data confusion matrix:')\n",
    "test_data_conf_matrix = classification_report(y_test, offensive_lr_model.predict(x_test), target_names=['not_off', 'off'])\n",
    "print(test_data_conf_matrix)\n",
    "print('dev data confusion matrix:')\n",
    "dev_data_conf_matrix = classification_report(y_dev_offensive, offensive_lr_model.predict(x_dev_offensive), target_names=['not_off', 'off'])\n",
    "print(dev_data_conf_matrix)"
   ]
  },
  {
   "cell_type": "code",
   "execution_count": 70,
   "metadata": {},
   "outputs": [
    {
     "name": "stderr",
     "output_type": "stream",
     "text": [
      "[Parallel(n_jobs=1)]: Using backend SequentialBackend with 1 concurrent workers.\n"
     ]
    },
    {
     "name": "stdout",
     "output_type": "stream",
     "text": [
      "building tree 1 of 100\n"
     ]
    },
    {
     "name": "stderr",
     "output_type": "stream",
     "text": [
      "[Parallel(n_jobs=1)]: Done   1 out of   1 | elapsed:    0.5s remaining:    0.0s\n"
     ]
    },
    {
     "name": "stdout",
     "output_type": "stream",
     "text": [
      "building tree 2 of 100\n",
      "building tree 3 of 100\n",
      "building tree 4 of 100\n",
      "building tree 5 of 100\n",
      "building tree 6 of 100\n",
      "building tree 7 of 100\n",
      "building tree 8 of 100\n",
      "building tree 9 of 100\n",
      "building tree 10 of 100\n",
      "building tree 11 of 100\n",
      "building tree 12 of 100\n",
      "building tree 13 of 100\n",
      "building tree 14 of 100\n",
      "building tree 15 of 100\n",
      "building tree 16 of 100\n",
      "building tree 17 of 100\n",
      "building tree 18 of 100\n",
      "building tree 19 of 100\n",
      "building tree 20 of 100\n",
      "building tree 21 of 100\n",
      "building tree 22 of 100\n",
      "building tree 23 of 100\n",
      "building tree 24 of 100\n",
      "building tree 25 of 100\n",
      "building tree 26 of 100\n",
      "building tree 27 of 100\n",
      "building tree 28 of 100\n",
      "building tree 29 of 100\n",
      "building tree 30 of 100\n",
      "building tree 31 of 100\n",
      "building tree 32 of 100\n",
      "building tree 33 of 100\n",
      "building tree 34 of 100\n",
      "building tree 35 of 100\n",
      "building tree 36 of 100\n",
      "building tree 37 of 100\n",
      "building tree 38 of 100\n",
      "building tree 39 of 100\n",
      "building tree 40 of 100\n",
      "building tree 41 of 100\n",
      "building tree 42 of 100\n",
      "building tree 43 of 100\n",
      "building tree 44 of 100\n",
      "building tree 45 of 100\n",
      "building tree 46 of 100\n",
      "building tree 47 of 100\n",
      "building tree 48 of 100\n",
      "building tree 49 of 100\n",
      "building tree 50 of 100\n",
      "building tree 51 of 100\n",
      "building tree 52 of 100\n",
      "building tree 53 of 100\n",
      "building tree 54 of 100\n",
      "building tree 55 of 100\n",
      "building tree 56 of 100\n",
      "building tree 57 of 100\n",
      "building tree 58 of 100\n",
      "building tree 59 of 100\n",
      "building tree 60 of 100\n",
      "building tree 61 of 100\n",
      "building tree 62 of 100\n",
      "building tree 63 of 100\n",
      "building tree 64 of 100\n",
      "building tree 65 of 100\n",
      "building tree 66 of 100\n",
      "building tree 67 of 100\n",
      "building tree 68 of 100\n",
      "building tree 69 of 100\n",
      "building tree 70 of 100\n",
      "building tree 71 of 100\n",
      "building tree 72 of 100\n",
      "building tree 73 of 100\n",
      "building tree 74 of 100\n",
      "building tree 75 of 100\n",
      "building tree 76 of 100\n",
      "building tree 77 of 100\n",
      "building tree 78 of 100\n",
      "building tree 79 of 100\n",
      "building tree 80 of 100\n",
      "building tree 81 of 100\n",
      "building tree 82 of 100\n",
      "building tree 83 of 100\n",
      "building tree 84 of 100\n",
      "building tree 85 of 100\n",
      "building tree 86 of 100\n",
      "building tree 87 of 100\n",
      "building tree 88 of 100\n",
      "building tree 89 of 100\n",
      "building tree 90 of 100\n",
      "building tree 91 of 100\n",
      "building tree 92 of 100\n",
      "building tree 93 of 100\n",
      "building tree 94 of 100\n",
      "building tree 95 of 100\n",
      "building tree 96 of 100\n",
      "building tree 97 of 100\n",
      "building tree 98 of 100\n",
      "building tree 99 of 100\n",
      "building tree 100 of 100\n"
     ]
    },
    {
     "name": "stderr",
     "output_type": "stream",
     "text": [
      "[Parallel(n_jobs=1)]: Done 100 out of 100 | elapsed:   47.0s finished\n"
     ]
    },
    {
     "data": {
      "text/plain": [
       "RandomForestClassifier(max_samples=0.4, verbose=2)"
      ]
     },
     "execution_count": 70,
     "metadata": {},
     "output_type": "execute_result"
    }
   ],
   "source": [
    "#random forest model for offensive task\n",
    "from sklearn.model_selection import train_test_split\n",
    "from sklearn.preprocessing import StandardScaler\n",
    "from sklearn.ensemble import RandomForestClassifier\n",
    "from sklearn.metrics import classification_report\n",
    "\n",
    "scaler = StandardScaler()\n",
    "x_train_offensive = scaler.fit_transform(x_train_offensive, y_train_offensive)\n",
    "\n",
    "x_train, x_test, y_train, y_test = train_test_split(x_train_offensive, y_train_offensive, test_size=0.3)\n",
    "\n",
    "offensive_rf_model = RandomForestClassifier(verbose=2, max_samples=0.4)\n",
    "\n",
    "offensive_rf_model.fit(x_train, y_train)"
   ]
  },
  {
   "cell_type": "code",
   "execution_count": null,
   "metadata": {},
   "outputs": [],
   "source": [
    "#evaluate random forest on training, test and development datasets for offensive task\n",
    "x_dev_offensive = scaler.fit(x_dev)\n",
    "print('train data confusion matrix:')\n",
    "train_data_conf_matrix = classification_report(y_train, offensive_rf_model.predict(x_train), target_names=['not_off', 'off'])\n",
    "print(train_data_conf_matrix)\n",
    "print('test data confusion matrix:')\n",
    "test_data_conf_matrix = classification_report(y_test, offensive_rf_model.predict(x_test), target_names=['not_off', 'off'])\n",
    "print(test_data_conf_matrix)\n",
    "print('dev data confusion matrix:')\n",
    "dev_data_conf_matrix = classification_report(y_dev_offensive, offensive_rf_model.predict(x_dev_offensive), target_names=['not_off', 'off'])\n",
    "print(dev_data_conf_matrix)"
   ]
  },
  {
   "cell_type": "code",
   "execution_count": 99,
   "metadata": {},
   "outputs": [
    {
     "name": "stderr",
     "output_type": "stream",
     "text": [
      "[Parallel(n_jobs=1)]: Using backend SequentialBackend with 1 concurrent workers.\n"
     ]
    },
    {
     "name": "stdout",
     "output_type": "stream",
     "text": [
      "Epoch 1, change: 1.00000000\n",
      "Epoch 2, change: 0.22245601\n",
      "Epoch 3, change: 0.13065225\n",
      "Epoch 4, change: 0.06529777\n",
      "Epoch 5, change: 0.04371365\n",
      "Epoch 6, change: 0.03118205\n",
      "Epoch 7, change: 0.01940550\n",
      "Epoch 8, change: 0.01335161\n",
      "Epoch 9, change: 0.01064205\n",
      "Epoch 10, change: 0.00771064\n",
      "Epoch 11, change: 0.00414935\n",
      "Epoch 12, change: 0.00285662\n",
      "Epoch 13, change: 0.00210780\n",
      "Epoch 14, change: 0.00152659\n",
      "Epoch 15, change: 0.00118896\n",
      "Epoch 16, change: 0.00093127\n",
      "Epoch 17, change: 0.00068015\n",
      "Epoch 18, change: 0.00054178\n",
      "Epoch 19, change: 0.00038536\n",
      "Epoch 20, change: 0.00028793\n",
      "Epoch 21, change: 0.00021724\n",
      "Epoch 22, change: 0.00016804\n",
      "Epoch 23, change: 0.00012574\n",
      "convergence after 24 epochs took 2 seconds\n"
     ]
    },
    {
     "name": "stderr",
     "output_type": "stream",
     "text": [
      "[Parallel(n_jobs=1)]: Done   1 out of   1 | elapsed:    2.2s remaining:    0.0s\n",
      "[Parallel(n_jobs=1)]: Done   1 out of   1 | elapsed:    2.5s finished\n"
     ]
    },
    {
     "data": {
      "text/plain": [
       "LogisticRegression(C=0.001, solver='saga', verbose=2)"
      ]
     },
     "execution_count": 99,
     "metadata": {},
     "output_type": "execute_result"
    }
   ],
   "source": [
    "#logistic regression model for hate speech task\n",
    "from sklearn.model_selection import train_test_split\n",
    "from sklearn.preprocessing import StandardScaler\n",
    "from sklearn.linear_model import LogisticRegression\n",
    "from sklearn.metrics import classification_report\n",
    "from sklearn.utils import shuffle\n",
    "\n",
    "scaler = StandardScaler()\n",
    "x_train_hs = scaler.fit_transform(x_train_hs, y_train_hs)\n",
    "\n",
    "x_train, x_test, y_train, y_test = train_test_split(x_train_hs, y_train_hs, test_size=0.3)\n",
    "\n",
    "hs_lr_model = LogisticRegression(verbose=2, solver='saga', C=1e-3)\n",
    "\n",
    "hs_lr_model.fit(x_train, y_train)"
   ]
  },
  {
   "cell_type": "code",
   "execution_count": null,
   "metadata": {},
   "outputs": [],
   "source": [
    "#evaluate logistic regression on training, test and development datasets for hate speech task\n",
    "x_dev_hs = scaler.fit(x_dev)\n",
    "print('train data confusion matrix:')\n",
    "train_data_conf_matrix = classification_report(y_train, hs_lr_model.predict(x_train), target_names=['not_hs', 'hs'])\n",
    "print(train_data_conf_matrix)\n",
    "print('test data confusion matrix:')\n",
    "test_data_conf_matrix = classification_report(y_test, hs_lr_model.predict(x_test), target_names=['not_hs', 'hs'])\n",
    "print(test_data_conf_matrix)\n",
    "print('dev data confusion matrix:')\n",
    "dev_data_conf_matrix = classification_report(y_dev_offensive, hs_lr_model.predict(x_dev_hs), target_names=['not_hs', 'hs'])\n",
    "print(dev_data_conf_matrix)"
   ]
  },
  {
   "cell_type": "code",
   "execution_count": 101,
   "metadata": {},
   "outputs": [
    {
     "name": "stderr",
     "output_type": "stream",
     "text": [
      "[Parallel(n_jobs=1)]: Using backend SequentialBackend with 1 concurrent workers.\n"
     ]
    },
    {
     "name": "stdout",
     "output_type": "stream",
     "text": [
      "building tree 1 of 100\n"
     ]
    },
    {
     "name": "stderr",
     "output_type": "stream",
     "text": [
      "[Parallel(n_jobs=1)]: Done   1 out of   1 | elapsed:    0.4s remaining:    0.0s\n"
     ]
    },
    {
     "name": "stdout",
     "output_type": "stream",
     "text": [
      "building tree 2 of 100\n",
      "building tree 3 of 100\n",
      "building tree 4 of 100\n",
      "building tree 5 of 100\n",
      "building tree 6 of 100\n",
      "building tree 7 of 100\n",
      "building tree 8 of 100\n",
      "building tree 9 of 100\n",
      "building tree 10 of 100\n",
      "building tree 11 of 100\n",
      "building tree 12 of 100\n",
      "building tree 13 of 100\n",
      "building tree 14 of 100\n",
      "building tree 15 of 100\n",
      "building tree 16 of 100\n",
      "building tree 17 of 100\n",
      "building tree 18 of 100\n",
      "building tree 19 of 100\n",
      "building tree 20 of 100\n",
      "building tree 21 of 100\n",
      "building tree 22 of 100\n",
      "building tree 23 of 100\n",
      "building tree 24 of 100\n",
      "building tree 25 of 100\n",
      "building tree 26 of 100\n",
      "building tree 27 of 100\n",
      "building tree 28 of 100\n",
      "building tree 29 of 100\n",
      "building tree 30 of 100\n",
      "building tree 31 of 100\n",
      "building tree 32 of 100\n",
      "building tree 33 of 100\n",
      "building tree 34 of 100\n",
      "building tree 35 of 100\n",
      "building tree 36 of 100\n",
      "building tree 37 of 100\n",
      "building tree 38 of 100\n",
      "building tree 39 of 100\n",
      "building tree 40 of 100\n",
      "building tree 41 of 100\n",
      "building tree 42 of 100\n",
      "building tree 43 of 100\n",
      "building tree 44 of 100\n",
      "building tree 45 of 100\n",
      "building tree 46 of 100\n",
      "building tree 47 of 100\n",
      "building tree 48 of 100\n",
      "building tree 49 of 100\n",
      "building tree 50 of 100\n",
      "building tree 51 of 100\n",
      "building tree 52 of 100\n",
      "building tree 53 of 100\n",
      "building tree 54 of 100\n",
      "building tree 55 of 100\n",
      "building tree 56 of 100\n",
      "building tree 57 of 100\n",
      "building tree 58 of 100\n",
      "building tree 59 of 100\n",
      "building tree 60 of 100\n",
      "building tree 61 of 100\n",
      "building tree 62 of 100\n",
      "building tree 63 of 100\n",
      "building tree 64 of 100\n",
      "building tree 65 of 100\n",
      "building tree 66 of 100\n",
      "building tree 67 of 100\n",
      "building tree 68 of 100\n",
      "building tree 69 of 100\n",
      "building tree 70 of 100\n",
      "building tree 71 of 100\n",
      "building tree 72 of 100\n",
      "building tree 73 of 100\n",
      "building tree 74 of 100\n",
      "building tree 75 of 100\n",
      "building tree 76 of 100\n",
      "building tree 77 of 100\n",
      "building tree 78 of 100\n",
      "building tree 79 of 100\n",
      "building tree 80 of 100\n",
      "building tree 81 of 100\n",
      "building tree 82 of 100\n",
      "building tree 83 of 100\n",
      "building tree 84 of 100\n",
      "building tree 85 of 100\n",
      "building tree 86 of 100\n",
      "building tree 87 of 100\n",
      "building tree 88 of 100\n",
      "building tree 89 of 100\n",
      "building tree 90 of 100\n",
      "building tree 91 of 100\n",
      "building tree 92 of 100\n",
      "building tree 93 of 100\n",
      "building tree 94 of 100\n",
      "building tree 95 of 100\n",
      "building tree 96 of 100\n",
      "building tree 97 of 100\n",
      "building tree 98 of 100\n",
      "building tree 99 of 100\n",
      "building tree 100 of 100\n"
     ]
    },
    {
     "name": "stderr",
     "output_type": "stream",
     "text": [
      "[Parallel(n_jobs=1)]: Done 100 out of 100 | elapsed:   12.1s finished\n"
     ]
    },
    {
     "data": {
      "text/plain": [
       "RandomForestClassifier(max_samples=0.4, verbose=2)"
      ]
     },
     "execution_count": 101,
     "metadata": {},
     "output_type": "execute_result"
    }
   ],
   "source": [
    "#random forest model for hate speech task\n",
    "from sklearn.model_selection import train_test_split\n",
    "from sklearn.preprocessing import StandardScaler\n",
    "from sklearn.ensemble import RandomForestClassifier\n",
    "from sklearn.metrics import classification_report\n",
    "\n",
    "scaler = StandardScaler()\n",
    "x_train_hs = scaler.fit_transform(x_train_hs, y_train_hs)\n",
    "\n",
    "x_train, x_test, y_train, y_test = train_test_split(x_train_hs, y_train_hs, test_size=0.3)\n",
    "\n",
    "hs_rf_model = RandomForestClassifier(verbose=2, max_samples=0.4)\n",
    "\n",
    "hs_rf_model.fit(x_train, y_train)"
   ]
  },
  {
   "cell_type": "code",
   "execution_count": null,
   "metadata": {},
   "outputs": [],
   "source": [
    "#evaluate random forest on training, test and development datasets for hate speech task\n",
    "x_dev_hs = scaler.fit(x_dev)\n",
    "print('train data confusion matrix:')\n",
    "train_data_conf_matrix = classification_report(y_train, hs_rf_model.predict(x_train), target_names=['not_hs', 'hs'])\n",
    "print(train_data_conf_matrix)\n",
    "print('test data confusion matrix:')\n",
    "test_data_conf_matrix = classification_report(y_test, hs_rf_model.predict(x_test), target_names=['not_hs', 'hs'])\n",
    "print(test_data_conf_matrix)\n",
    "print('dev data confusion matrix:')\n",
    "dev_data_conf_matrix = classification_report(y_dev_offensive, hs_rf_model.predict(x_dev_hs), target_names=['not_hs', 'hs'])\n",
    "print(dev_data_conf_matrix)"
   ]
  }
 ],
 "metadata": {
  "interpreter": {
   "hash": "916dbcbb3f70747c44a77c7bcd40155683ae19c65e1c03b4aa3499c5328201f1"
  },
  "kernelspec": {
   "display_name": "Python 3.8.10 64-bit",
   "language": "python",
   "name": "python3"
  },
  "language_info": {
   "codemirror_mode": {
    "name": "ipython",
    "version": 3
   },
   "file_extension": ".py",
   "mimetype": "text/x-python",
   "name": "python",
   "nbconvert_exporter": "python",
   "pygments_lexer": "ipython3",
   "version": "3.8.10"
  },
  "orig_nbformat": 4
 },
 "nbformat": 4,
 "nbformat_minor": 2
}
